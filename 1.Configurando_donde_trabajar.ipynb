{
 "cells": [
  {
   "cell_type": "markdown",
   "id": "714a567c",
   "metadata": {},
   "source": [
    "# Configurando donde trabajar"
   ]
  },
  {
   "cell_type": "markdown",
   "id": "473b26c6",
   "metadata": {},
   "source": [
    "## En la línea de comandos creamos un nuevo directorio y accedemos a el "
   ]
  },
  {
   "cell_type": "code",
   "execution_count": 2,
   "id": "2c541f11",
   "metadata": {},
   "outputs": [],
   "source": [
    "%%bash\n",
    "mkdir -p gitexample\n",
    "cd gitexample\n"
   ]
  },
  {
   "cell_type": "markdown",
   "id": "e559f19e",
   "metadata": {},
   "source": [
    "## Almacenamos en la variable el path del directorio donde estamos trabajando "
   ]
  },
  {
   "cell_type": "code",
   "execution_count": 3,
   "id": "fe52af02",
   "metadata": {},
   "outputs": [
    {
     "data": {
      "text/plain": [
       "'/home/jonathan/Curso_Ciencia_Datos/versionControl'"
      ]
     },
     "execution_count": 3,
     "metadata": {},
     "output_type": "execute_result"
    }
   ],
   "source": [
    "import os\n",
    "top_dir = os.getcwd()\n",
    "top_dir"
   ]
  },
  {
   "cell_type": "markdown",
   "id": "abd065e7",
   "metadata": {},
   "source": [
    "## Agregamos al path el directorio que creamos anteriormente"
   ]
  },
  {
   "cell_type": "code",
   "execution_count": 4,
   "id": "549ea21d",
   "metadata": {},
   "outputs": [
    {
     "data": {
      "text/plain": [
       "'/home/jonathan/Curso_Ciencia_Datos/versionControl/gitexample'"
      ]
     },
     "execution_count": 4,
     "metadata": {},
     "output_type": "execute_result"
    }
   ],
   "source": [
    "git_dir = os.path.join(top_dir, \"gitexample\")\n",
    "git_dir"
   ]
  },
  {
   "cell_type": "markdown",
   "id": "509fe311",
   "metadata": {},
   "source": [
    "## Cambiamos el directorio actual de trabajo "
   ]
  },
  {
   "cell_type": "code",
   "execution_count": 6,
   "id": "5fcc3088",
   "metadata": {},
   "outputs": [],
   "source": [
    "os.chdir(git_dir)"
   ]
  },
  {
   "cell_type": "markdown",
   "id": "ddb12903",
   "metadata": {},
   "source": [
    "## Ahora todo lo que creamos va a quedar guardado en el directorio que seleccionamos"
   ]
  },
  {
   "cell_type": "code",
   "execution_count": 7,
   "id": "b6baec18",
   "metadata": {},
   "outputs": [
    {
     "name": "stdout",
     "output_type": "stream",
     "text": [
      "Writing somedocument2.md\n"
     ]
    }
   ],
   "source": [
    "%%writefile somedocument2.md\n",
    "Hola este es un texto de prueba"
   ]
  }
 ],
 "metadata": {
  "kernelspec": {
   "display_name": "Python 3 (ipykernel)",
   "language": "python",
   "name": "python3"
  },
  "language_info": {
   "codemirror_mode": {
    "name": "ipython",
    "version": 3
   },
   "file_extension": ".py",
   "mimetype": "text/x-python",
   "name": "python",
   "nbconvert_exporter": "python",
   "pygments_lexer": "ipython3",
   "version": "3.9.7"
  }
 },
 "nbformat": 4,
 "nbformat_minor": 5
}
