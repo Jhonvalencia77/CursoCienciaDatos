{
 "cells": [
  {
   "cell_type": "markdown",
   "id": "4152e9ba",
   "metadata": {},
   "source": [
    "# Configuración inicial Git"
   ]
  },
  {
   "cell_type": "code",
   "execution_count": null,
   "id": "3ef463fe",
   "metadata": {},
   "outputs": [],
   "source": [
    "%%bash\n",
    "git config --global user.name \"jhonvalencia77\"\n",
    "git config --global user.email \"jhonvalencia66@gmail.com\"\n",
    "\n",
    "git config user.name \n",
    "git config user.email \n"
   ]
  },
  {
   "cell_type": "markdown",
   "id": "eff83f97",
   "metadata": {},
   "source": [
    "## Cambiamos el directorio de trabajo"
   ]
  },
  {
   "cell_type": "code",
   "execution_count": 1,
   "id": "2b9b19f1",
   "metadata": {},
   "outputs": [],
   "source": [
    "import os\n",
    "\n",
    "current_dir = os.getcwd()\n",
    "current_dir\n",
    "\n",
    "change_dir = os.path.join(current_dir, \"gitexample\")\n",
    "change_dir\n",
    "\n",
    "os.chdir(change_dir) #Sale un error si se corre 2 veces (No importa)"
   ]
  },
  {
   "cell_type": "markdown",
   "id": "7ffb223f",
   "metadata": {},
   "source": [
    "## Le decimos a git que rastree el contenido de esta carpeta como un repositorio Git "
   ]
  },
  {
   "cell_type": "code",
   "execution_count": null,
   "id": "9b34ec07",
   "metadata": {},
   "outputs": [],
   "source": [
    "%%bash\n",
    "pwd # Verificamos el directorio\n",
    "git init --initial-branch=main\n"
   ]
  },
  {
   "cell_type": "markdown",
   "id": "5bbb71bc",
   "metadata": {},
   "source": [
    "## Verificamos el estado de la rama"
   ]
  },
  {
   "cell_type": "code",
   "execution_count": null,
   "id": "7d2eb0a5",
   "metadata": {},
   "outputs": [],
   "source": [
    "%%bash \n",
    "git status"
   ]
  },
  {
   "cell_type": "markdown",
   "id": "6f2c9284",
   "metadata": {},
   "source": [
    "## Le decimos a Git que nos gustaria hacer un seguimiento del archivo "
   ]
  },
  {
   "cell_type": "code",
   "execution_count": null,
   "id": "3faf56ca",
   "metadata": {},
   "outputs": [],
   "source": [
    "%%bash \n",
    "git add somedocument2.md"
   ]
  },
  {
   "cell_type": "markdown",
   "id": "3c077071",
   "metadata": {},
   "source": [
    "## Le decimos a git que grabe la primera versión del archivo "
   ]
  },
  {
   "cell_type": "code",
   "execution_count": null,
   "id": "3cc9ba15",
   "metadata": {},
   "outputs": [],
   "source": [
    "%%bash\n",
    "git commit -m \"Primer commit del archivo\""
   ]
  },
  {
   "cell_type": "markdown",
   "id": "86fa2279",
   "metadata": {},
   "source": [
    "## Miramos la historia de los commits\n",
    "### Codigo hash es el identificador unico del commit"
   ]
  },
  {
   "cell_type": "code",
   "execution_count": null,
   "id": "f119343a",
   "metadata": {},
   "outputs": [],
   "source": [
    "%%bash\n",
    "git log"
   ]
  },
  {
   "cell_type": "markdown",
   "id": "b719441e",
   "metadata": {},
   "source": [
    "## Hacemos una nueva versión del archivo"
   ]
  },
  {
   "cell_type": "code",
   "execution_count": null,
   "id": "409805ea",
   "metadata": {},
   "outputs": [],
   "source": [
    "%%writefile somedocument2.md\n",
    "Hola este es un texto de prueba\n",
    "Voy a agregar esta nueva linea\n"
   ]
  },
  {
   "cell_type": "markdown",
   "id": "35e4f7cb",
   "metadata": {},
   "source": [
    "## Consultamos el estado del commit\n",
    "### Observamos que hay una actualización "
   ]
  },
  {
   "cell_type": "code",
   "execution_count": null,
   "id": "a46ed801",
   "metadata": {},
   "outputs": [],
   "source": [
    "%%bash\n",
    "git status"
   ]
  },
  {
   "cell_type": "markdown",
   "id": "798a0bac",
   "metadata": {},
   "source": [
    "## Verificamos las diferencias entre los commits\n",
    "### el + indica una nueva linea agregada"
   ]
  },
  {
   "cell_type": "code",
   "execution_count": null,
   "id": "09ecda4c",
   "metadata": {},
   "outputs": [],
   "source": [
    "%%bash\n",
    "git diff"
   ]
  },
  {
   "cell_type": "markdown",
   "id": "7d5a60d2",
   "metadata": {},
   "source": [
    "## Se agrega a la \"staging area\" o a la \"lista de cambios\""
   ]
  },
  {
   "cell_type": "code",
   "execution_count": null,
   "id": "89c00a9a",
   "metadata": {},
   "outputs": [],
   "source": [
    "%%bash\n",
    "git add --update"
   ]
  },
  {
   "cell_type": "markdown",
   "id": "28d5136d",
   "metadata": {},
   "source": [
    "## Verificamos el estado del repositorio vemos que hay un nuevo archivo sin seguimiento"
   ]
  },
  {
   "cell_type": "code",
   "execution_count": null,
   "id": "6824ad44",
   "metadata": {},
   "outputs": [],
   "source": [
    "%%bash\n",
    "git status"
   ]
  },
  {
   "cell_type": "markdown",
   "id": "3e38c1a5",
   "metadata": {},
   "source": [
    "## Agregamos un error a la información"
   ]
  },
  {
   "cell_type": "code",
   "execution_count": null,
   "id": "ccc27a3b",
   "metadata": {},
   "outputs": [],
   "source": [
    "%%writefile somedocument2.md\n",
    "Hola este es un texto de prueba\n",
    "Voy a agregar esta nueva linea\n",
    "Agregamos una mentira"
   ]
  },
  {
   "cell_type": "code",
   "execution_count": null,
   "id": "6c7bf2b1",
   "metadata": {},
   "outputs": [],
   "source": [
    "%%bash \n",
    "git commit -m \"Nuevo commit 2\""
   ]
  },
  {
   "cell_type": "markdown",
   "id": "70d47788",
   "metadata": {},
   "source": [
    "## Al hacer el commit anterior hay un error en la información escrita \n",
    "### Hacemos como si no nos hemos dado cuenta del error"
   ]
  },
  {
   "cell_type": "code",
   "execution_count": null,
   "id": "f4fcf1c1",
   "metadata": {},
   "outputs": [],
   "source": [
    "%%writefile somedocument2.md\n",
    "Añadimos un titulo\n",
    "=========================\n",
    "Hola este es un texto de prueba\n",
    "Voy a agregar esta nueva linea\n",
    "Agregamos una mentira"
   ]
  },
  {
   "cell_type": "code",
   "execution_count": null,
   "id": "19d6e862",
   "metadata": {},
   "outputs": [],
   "source": [
    "%%bash\n",
    "git log"
   ]
  },
  {
   "cell_type": "markdown",
   "id": "4ecd451e",
   "metadata": {},
   "source": [
    "## EL commit -a añade los cambios a todos los archivos del area de staging"
   ]
  },
  {
   "cell_type": "code",
   "execution_count": null,
   "id": "20e990e8",
   "metadata": {},
   "outputs": [],
   "source": [
    "%%bash\n",
    "git commit -am \"Change title\""
   ]
  },
  {
   "cell_type": "markdown",
   "id": "1d9422f4",
   "metadata": {},
   "source": [
    "## Revisamos los cambios"
   ]
  },
  {
   "cell_type": "code",
   "execution_count": null,
   "id": "59d03ebf",
   "metadata": {},
   "outputs": [],
   "source": [
    "%%bash\n",
    "git log | head"
   ]
  },
  {
   "cell_type": "code",
   "execution_count": null,
   "id": "a85be4ad",
   "metadata": {},
   "outputs": [],
   "source": [
    "%%bash\n",
    "git log --oneline"
   ]
  },
  {
   "cell_type": "markdown",
   "id": "0426e729",
   "metadata": {},
   "source": [
    "## Revertimos al commit antes de la cabecera (head)\n",
    "### HEAD~  HEAD~ ~  HEAD~3 son las opciones para regresar a una opción anterior\n",
    "#### Si sale un error toca arreglarlo manualmente"
   ]
  },
  {
   "cell_type": "code",
   "execution_count": null,
   "id": "68774a3b",
   "metadata": {},
   "outputs": [],
   "source": [
    "%%bash\n",
    "git revert HEAD~"
   ]
  },
  {
   "cell_type": "markdown",
   "id": "1b311be5",
   "metadata": {},
   "source": [
    "## Quitamos commits del log, exactamente uno antes de la cabecera"
   ]
  },
  {
   "cell_type": "code",
   "execution_count": 3,
   "id": "78036ee8",
   "metadata": {},
   "outputs": [
    {
     "name": "stdout",
     "output_type": "stream",
     "text": [
      "Cambios fuera del área de stage tras el reset:\n",
      "M\tsomedocument2.md\n"
     ]
    }
   ],
   "source": [
    "%%bash\n",
    "git reset HEAD~"
   ]
  },
  {
   "cell_type": "code",
   "execution_count": 4,
   "id": "5e654ea5",
   "metadata": {},
   "outputs": [
    {
     "name": "stdout",
     "output_type": "stream",
     "text": [
      "commit 7c43960d62e5653388acb49c2c086a0b325e51ba\n",
      "Author: Jhonvalencia77 <Jhonvalencia66@gmail.com>\n",
      "Date:   Thu Mar 24 10:25:06 2022 -0500\n",
      "\n",
      "    Digo una mentira en el documento somedocument2\n",
      "\n",
      "commit 272d46de52206e1deb7060aff7b33df4d78d9002\n",
      "Author: Jhonvalencia77 <Jhonvalencia66@gmail.com>\n",
      "Date:   Thu Mar 24 09:53:43 2022 -0500\n",
      "\n",
      "    Nuevo commit 2\n",
      "\n",
      "commit af4ccb7f0035dd0c42f31a4a1d96f59deaf3d4eb\n",
      "Author: Jhonvalencia77 <Jhonvalencia66@gmail.com>\n",
      "Date:   Wed Mar 23 13:06:46 2022 -0500\n",
      "\n",
      "    Primer commit del archivo\n"
     ]
    }
   ],
   "source": [
    "%%bash\n",
    "git log"
   ]
  },
  {
   "cell_type": "markdown",
   "id": "98053668",
   "metadata": {},
   "source": [
    "## Al eliminar el historial con reset el directorio de trabajo queda exactamente igual con el commit que se ha eliminado con reset.\n",
    "### Por lo anterior debemos restablecer el archivo del directorio de trabajo para que sea el mismo que el indice"
   ]
  },
  {
   "cell_type": "code",
   "execution_count": 5,
   "id": "58a3395c",
   "metadata": {},
   "outputs": [
    {
     "name": "stderr",
     "output_type": "stream",
     "text": [
      "Actualizada 1 ruta desde el índice\n"
     ]
    }
   ],
   "source": [
    "%%bash\n",
    "git checkout somedocument2.md"
   ]
  }
 ],
 "metadata": {
  "kernelspec": {
   "display_name": "Python 3 (ipykernel)",
   "language": "python",
   "name": "python3"
  },
  "language_info": {
   "codemirror_mode": {
    "name": "ipython",
    "version": 3
   },
   "file_extension": ".py",
   "mimetype": "text/x-python",
   "name": "python",
   "nbconvert_exporter": "python",
   "pygments_lexer": "ipython3",
   "version": "3.9.7"
  }
 },
 "nbformat": 4,
 "nbformat_minor": 5
}
