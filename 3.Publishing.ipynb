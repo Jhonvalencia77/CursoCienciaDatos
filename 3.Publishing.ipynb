{
 "cells": [
  {
   "cell_type": "markdown",
   "id": "e7c209a6",
   "metadata": {},
   "source": [
    "## 1er paso creamos un repositorio nuevo en github para almacenar el trabajo"
   ]
  },
  {
   "cell_type": "code",
   "execution_count": 1,
   "id": "96334256",
   "metadata": {},
   "outputs": [],
   "source": [
    "import os\n",
    "\n",
    "current_dir = os.getcwd()\n",
    "current_dir\n",
    "\n",
    "change_dir = os.path.join(current_dir, \"gitexample\")\n",
    "change_dir\n",
    "\n",
    "os.chdir(change_dir) #Sale un error si se corre 2 veces (No importa)"
   ]
  },
  {
   "cell_type": "markdown",
   "id": "cc601596",
   "metadata": {},
   "source": [
    "## Empujar (push) a un repositorio existente \n",
    "### Configura el servidor como un SSH nuevo llamado origin"
   ]
  },
  {
   "cell_type": "code",
   "execution_count": 2,
   "id": "cb5356ac",
   "metadata": {},
   "outputs": [],
   "source": [
    "%%bash\n",
    "git remote add origin git@github.com:Jhonvalencia77/PrimerRepositorio.git"
   ]
  },
  {
   "cell_type": "code",
   "execution_count": 3,
   "id": "5555ef6b",
   "metadata": {},
   "outputs": [
    {
     "name": "stdout",
     "output_type": "stream",
     "text": [
      "origin\tgit@github.com:Jhonvalencia77/PrimerRepositorio.git (fetch)\n",
      "origin\tgit@github.com:Jhonvalencia77/PrimerRepositorio.git (push)\n"
     ]
    }
   ],
   "source": [
    "%%bash\n",
    "git remote -v"
   ]
  },
  {
   "cell_type": "markdown",
   "id": "2d483089",
   "metadata": {},
   "source": [
    "## Git push empuja el historial entero hacia el servidor\n",
    "### Ahora ya podemos ver nuestro trabajo en la web "
   ]
  },
  {
   "cell_type": "code",
   "execution_count": 5,
   "id": "9a75cb78",
   "metadata": {},
   "outputs": [
    {
     "name": "stdout",
     "output_type": "stream",
     "text": [
      "branch 'main' set up to track 'origin/main'.\n"
     ]
    },
    {
     "name": "stderr",
     "output_type": "stream",
     "text": [
      "Warning: Permanently added the ECDSA host key for IP address '140.82.112.3' to the list of known hosts.\r\n",
      "To github.com:Jhonvalencia77/PrimerRepositorio.git\n",
      " * [new branch]      main -> main\n"
     ]
    }
   ],
   "source": [
    "%%bash\n",
    "git push -uf origin main "
   ]
  }
 ],
 "metadata": {
  "kernelspec": {
   "display_name": "Python 3 (ipykernel)",
   "language": "python",
   "name": "python3"
  },
  "language_info": {
   "codemirror_mode": {
    "name": "ipython",
    "version": 3
   },
   "file_extension": ".py",
   "mimetype": "text/x-python",
   "name": "python",
   "nbconvert_exporter": "python",
   "pygments_lexer": "ipython3",
   "version": "3.9.7"
  }
 },
 "nbformat": 4,
 "nbformat_minor": 5
}
