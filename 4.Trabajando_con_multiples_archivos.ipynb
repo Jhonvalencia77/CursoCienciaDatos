{
 "cells": [
  {
   "cell_type": "code",
   "execution_count": 1,
   "id": "cd3e765c",
   "metadata": {},
   "outputs": [],
   "source": [
    "import os\n",
    "\n",
    "current_dir = os.getcwd()\n",
    "current_dir\n",
    "\n",
    "change_dir = os.path.join(current_dir, \"gitexample\")\n",
    "change_dir\n",
    "\n",
    "os.chdir(change_dir) #Sale un error si se corre 2 veces (No importa)"
   ]
  },
  {
   "cell_type": "markdown",
   "id": "0e062f8d",
   "metadata": {},
   "source": [
    "## Creamos un nuevo documento"
   ]
  },
  {
   "cell_type": "code",
   "execution_count": 2,
   "id": "0e82e6f2",
   "metadata": {},
   "outputs": [
    {
     "name": "stdout",
     "output_type": "stream",
     "text": [
      "Writing lakeland.md\n"
     ]
    }
   ],
   "source": [
    "%%writefile lakeland.md\n",
    "Lakeland  \n",
    "========   \n",
    "  \n",
    "Cumbria has some pretty hills, and lakes too."
   ]
  },
  {
   "cell_type": "markdown",
   "id": "44d3c8bf",
   "metadata": {},
   "source": [
    "## Le decimos a git que rastree el nuevo archivo "
   ]
  },
  {
   "cell_type": "code",
   "execution_count": 3,
   "id": "6f1ad872",
   "metadata": {},
   "outputs": [
    {
     "name": "stdout",
     "output_type": "stream",
     "text": [
      "[main f0d75e6] Añadimos lakeland\n",
      " 1 file changed, 4 insertions(+)\n",
      " create mode 100644 lakeland.md\n"
     ]
    }
   ],
   "source": [
    "%%bash\n",
    "git add lakeland.md\n",
    "git commit -am \"Añadimos lakeland\""
   ]
  },
  {
   "cell_type": "markdown",
   "id": "eb064861",
   "metadata": {},
   "source": [
    "## Hacemos un push hacia el repositorio origin "
   ]
  },
  {
   "cell_type": "code",
   "execution_count": 4,
   "id": "16604079",
   "metadata": {},
   "outputs": [
    {
     "name": "stderr",
     "output_type": "stream",
     "text": [
      "To github.com:Jhonvalencia77/PrimerRepositorio.git\n",
      "   7c43960..f0d75e6  main -> main\n"
     ]
    }
   ],
   "source": [
    "%%bash\n",
    "git push origin "
   ]
  },
  {
   "cell_type": "markdown",
   "id": "4890d3df",
   "metadata": {},
   "source": [
    "## Editamos ambos archivos"
   ]
  },
  {
   "cell_type": "code",
   "execution_count": 7,
   "id": "727616d3",
   "metadata": {},
   "outputs": [
    {
     "name": "stdout",
     "output_type": "stream",
     "text": [
      "Overwriting lakeland.md\n"
     ]
    }
   ],
   "source": [
    "%%writefile lakeland.md\n",
    "\n",
    "Lakeland  \n",
    "========   \n",
    "  \n",
    "Cumbria has some pretty hills, and lakes too\n",
    "\n",
    "Mountains:\n",
    "* Helvellyn"
   ]
  },
  {
   "cell_type": "code",
   "execution_count": 8,
   "id": "c7d0e6e6",
   "metadata": {},
   "outputs": [
    {
     "name": "stdout",
     "output_type": "stream",
     "text": [
      "Overwriting somedocument2.md\n"
     ]
    }
   ],
   "source": [
    "%%writefile somedocument2.md\n",
    "\n",
    "Mountains and Lakes in the UK\n",
    "===================   \n",
    "Engerland is not very mountainous.\n",
    "But has some tall hills, and maybe a\n",
    "mountain or two depending on your definition."
   ]
  },
  {
   "cell_type": "markdown",
   "id": "f33e3da6",
   "metadata": {},
   "source": [
    "## Verificamos estado"
   ]
  },
  {
   "cell_type": "code",
   "execution_count": 9,
   "id": "3f4c350b",
   "metadata": {},
   "outputs": [
    {
     "name": "stdout",
     "output_type": "stream",
     "text": [
      "En la rama main\n",
      "Tu rama está actualizada con 'origin/main'.\n",
      "\n",
      "Cambios no rastreados para el commit:\n",
      "  (usa \"git add <archivo>...\" para actualizar lo que será confirmado)\n",
      "  (usa \"git restore <archivo>...\" para descartar los cambios en el directorio de trabajo)\n",
      "\tmodificados:     lakeland.md\n",
      "\tmodificados:     somedocument2.md\n",
      "\n",
      "Archivos sin seguimiento:\n",
      "  (usa \"git add <archivo>...\" para incluirlo a lo que se será confirmado)\n",
      "\t__pycache__/\n",
      "\twsd.py\n",
      "\n",
      "sin cambios agregados al commit (usa \"git add\" y/o \"git commit -a\")\n"
     ]
    }
   ],
   "source": [
    "%%bash\n",
    "git status"
   ]
  },
  {
   "cell_type": "markdown",
   "id": "66dc2a70",
   "metadata": {},
   "source": [
    "## Se deben de hacer los commits por separado \n",
    "## Seleccionamos el primer archivo y hacemos el commit de ese archivo"
   ]
  },
  {
   "cell_type": "code",
   "execution_count": 10,
   "id": "1ffa5b5e",
   "metadata": {},
   "outputs": [
    {
     "name": "stdout",
     "output_type": "stream",
     "text": [
      "[main 28e6f0d] Incluye lagos\n",
      " 1 file changed, 6 insertions(+), 3 deletions(-)\n"
     ]
    }
   ],
   "source": [
    "%%bash\n",
    "git add somedocument2.md\n",
    "git commit -m \"Incluye lagos\""
   ]
  },
  {
   "cell_type": "markdown",
   "id": "4e7ba9ed",
   "metadata": {},
   "source": [
    "## Commit -am hace el commit para todos los archivos en el area de staging, como el commit para el archivo \"somedocument2.md\" ya se realizo, por consiguiente el unico archivo que esta en el area de staging es \"lakeland.md\""
   ]
  },
  {
   "cell_type": "code",
   "execution_count": 11,
   "id": "a26f9551",
   "metadata": {},
   "outputs": [
    {
     "name": "stdout",
     "output_type": "stream",
     "text": [
      "[main 54e57cf] Add Helvellyn\n",
      " 1 file changed, 5 insertions(+), 1 deletion(-)\n"
     ]
    }
   ],
   "source": [
    "%%bash\n",
    "git commit -am \"Add Helvellyn\""
   ]
  },
  {
   "cell_type": "code",
   "execution_count": 12,
   "id": "4c99ea63",
   "metadata": {},
   "outputs": [
    {
     "name": "stdout",
     "output_type": "stream",
     "text": [
      "54e57cf Add Helvellyn\n",
      "28e6f0d Incluye lagos\n",
      "f0d75e6 Añadimos lakeland\n",
      "7c43960 Digo una mentira en el documento somedocument2\n",
      "272d46d Nuevo commit 2\n",
      "af4ccb7 Primer commit del archivo\n"
     ]
    }
   ],
   "source": [
    "%%bash \n",
    "git log --oneline"
   ]
  },
  {
   "cell_type": "code",
   "execution_count": 13,
   "id": "ae708f3a",
   "metadata": {},
   "outputs": [
    {
     "name": "stderr",
     "output_type": "stream",
     "text": [
      "To github.com:Jhonvalencia77/PrimerRepositorio.git\n",
      "   28e6f0d..54e57cf  main -> main\n"
     ]
    }
   ],
   "source": [
    "%%bash\n",
    "git push origin"
   ]
  }
 ],
 "metadata": {
  "kernelspec": {
   "display_name": "Python 3 (ipykernel)",
   "language": "python",
   "name": "python3"
  },
  "language_info": {
   "codemirror_mode": {
    "name": "ipython",
    "version": 3
   },
   "file_extension": ".py",
   "mimetype": "text/x-python",
   "name": "python",
   "nbconvert_exporter": "python",
   "pygments_lexer": "ipython3",
   "version": "3.9.7"
  }
 },
 "nbformat": 4,
 "nbformat_minor": 5
}
