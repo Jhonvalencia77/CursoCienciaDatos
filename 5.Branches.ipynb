{
 "cells": [
  {
   "cell_type": "markdown",
   "id": "f577dfea",
   "metadata": {},
   "source": [
    "## Branches son importantes cuando se quiere trabajar en paralelo e introducir los cambios cuando se esta listo, sirve para hacer una segunda versión del software."
   ]
  },
  {
   "cell_type": "code",
   "execution_count": 2,
   "id": "94946bec",
   "metadata": {},
   "outputs": [],
   "source": [
    "import os\n",
    "\n",
    "current_dir = os.getcwd()\n",
    "current_dir\n",
    "\n",
    "change_dir = os.path.join(current_dir, \"gitexample\")\n",
    "change_dir\n",
    "\n",
    "os.chdir(change_dir) #Sale un error si se corre 2 veces (No importa)"
   ]
  },
  {
   "cell_type": "markdown",
   "id": "faae6345",
   "metadata": {},
   "source": [
    "## Preguntamos que ramas existen"
   ]
  },
  {
   "cell_type": "code",
   "execution_count": null,
   "id": "8facc83a",
   "metadata": {},
   "outputs": [],
   "source": [
    "%%bash\n",
    "git branch"
   ]
  },
  {
   "cell_type": "markdown",
   "id": "8f02ab6d",
   "metadata": {},
   "source": [
    "## Hacemos una nueva rama y accedemos a ella"
   ]
  },
  {
   "cell_type": "code",
   "execution_count": null,
   "id": "9bf911ae",
   "metadata": {},
   "outputs": [],
   "source": [
    "%%bash\n",
    "git checkout -b experiment"
   ]
  },
  {
   "cell_type": "code",
   "execution_count": 5,
   "id": "74510e63",
   "metadata": {},
   "outputs": [
    {
     "name": "stdout",
     "output_type": "stream",
     "text": [
      "  experiment\n",
      "* main\n"
     ]
    }
   ],
   "source": [
    "%%bash\n",
    "git branch"
   ]
  },
  {
   "cell_type": "markdown",
   "id": "85331f01",
   "metadata": {},
   "source": [
    "## Nuevo archivo "
   ]
  },
  {
   "cell_type": "code",
   "execution_count": 6,
   "id": "dfe666fb",
   "metadata": {},
   "outputs": [
    {
     "name": "stdout",
     "output_type": "stream",
     "text": [
      "Writing Wales.md\n"
     ]
    }
   ],
   "source": [
    "%%writefile Wales.md\n",
    "Mountains In Wales\n",
    "==================\n",
    "\n",
    "* Pen y Fan\n",
    "* Tryfan\n",
    "* Snowdon\n",
    "* Glyder Fawr\n",
    "* Fan y Big"
   ]
  },
  {
   "cell_type": "markdown",
   "id": "32e226c1",
   "metadata": {},
   "source": [
    "## Hacemos rastreo de ese archivo con Git"
   ]
  },
  {
   "cell_type": "code",
   "execution_count": null,
   "id": "af37d72e",
   "metadata": {},
   "outputs": [],
   "source": [
    "%%bash\n",
    "git add Wales.md"
   ]
  },
  {
   "cell_type": "markdown",
   "id": "716e22f8",
   "metadata": {},
   "source": [
    "## Modificamos el archivo "
   ]
  },
  {
   "cell_type": "code",
   "execution_count": null,
   "id": "f00816c3",
   "metadata": {},
   "outputs": [],
   "source": [
    "%%writefile Wales.md\n",
    "Mountains In Wales\n",
    "==================\n",
    "\n",
    "* Pen y Fan\n",
    "* Tryfan\n",
    "* Snowdon\n",
    "* Glyder Fawr\n",
    "* Fan y Big\n",
    "* Cadair Idris"
   ]
  },
  {
   "cell_type": "markdown",
   "id": "544852db",
   "metadata": {},
   "source": [
    "## Hacemos commit a todos los archivos que estan en staging"
   ]
  },
  {
   "cell_type": "code",
   "execution_count": null,
   "id": "0335540c",
   "metadata": {},
   "outputs": [],
   "source": [
    "%%bash \n",
    "git commit -am \"Añadir Cadair Idris\""
   ]
  },
  {
   "cell_type": "markdown",
   "id": "636010a4",
   "metadata": {},
   "source": [
    "## Cambiamos a una rama existente"
   ]
  },
  {
   "cell_type": "code",
   "execution_count": 4,
   "id": "9bdf5bc3",
   "metadata": {},
   "outputs": [
    {
     "name": "stdout",
     "output_type": "stream",
     "text": [
      "Tu rama está actualizada con 'origin/main'.\n"
     ]
    },
    {
     "name": "stderr",
     "output_type": "stream",
     "text": [
      "Cambiado a rama 'main'\n"
     ]
    }
   ],
   "source": [
    "%%bash\n",
    "git checkout main"
   ]
  },
  {
   "cell_type": "markdown",
   "id": "672eb57d",
   "metadata": {},
   "source": [
    "## Rastreamos el archivo en la nueva rama"
   ]
  },
  {
   "cell_type": "code",
   "execution_count": 8,
   "id": "1282f9c4",
   "metadata": {},
   "outputs": [],
   "source": [
    "%%bash \n",
    "git add Wales.md"
   ]
  },
  {
   "cell_type": "markdown",
   "id": "35b08ea2",
   "metadata": {},
   "source": [
    "## Hacemos un commit"
   ]
  },
  {
   "cell_type": "code",
   "execution_count": 9,
   "id": "264f794b",
   "metadata": {},
   "outputs": [
    {
     "name": "stdout",
     "output_type": "stream",
     "text": [
      "[main 57d1aad] Quitar Cadair Idris\n",
      " 1 file changed, 8 insertions(+)\n",
      " create mode 100644 Wales.md\n"
     ]
    }
   ],
   "source": [
    "%%bash \n",
    "git commit -am \"Quitar Cadair Idris\""
   ]
  },
  {
   "cell_type": "markdown",
   "id": "22e3995d",
   "metadata": {},
   "source": [
    "## Observamos el contenido del archivo en la rama \"main\""
   ]
  },
  {
   "cell_type": "code",
   "execution_count": 10,
   "id": "539db706",
   "metadata": {},
   "outputs": [
    {
     "name": "stdout",
     "output_type": "stream",
     "text": [
      "Mountains In Wales\n",
      "==================\n",
      "\n",
      "* Pen y Fan\n",
      "* Tryfan\n",
      "* Snowdon\n",
      "* Glyder Fawr\n",
      "* Fan y Big\n"
     ]
    }
   ],
   "source": [
    "%%bash\n",
    "cat Wales.md"
   ]
  },
  {
   "cell_type": "markdown",
   "id": "9120e4b3",
   "metadata": {},
   "source": [
    "## Cambiamos de rama nuevamente"
   ]
  },
  {
   "cell_type": "code",
   "execution_count": 11,
   "id": "330180fc",
   "metadata": {},
   "outputs": [
    {
     "name": "stderr",
     "output_type": "stream",
     "text": [
      "Cambiado a rama 'experiment'\n"
     ]
    }
   ],
   "source": [
    "%%bash\n",
    "git checkout experiment"
   ]
  },
  {
   "cell_type": "markdown",
   "id": "8dd2ddc4",
   "metadata": {},
   "source": [
    "## Observamos que el archivo tiene diferentes versiones en cada una de las ramas "
   ]
  },
  {
   "cell_type": "code",
   "execution_count": 12,
   "id": "4a7ed38b",
   "metadata": {},
   "outputs": [
    {
     "name": "stdout",
     "output_type": "stream",
     "text": [
      "Mountains In Wales\n",
      "==================\n",
      "\n",
      "* Pen y Fan\n",
      "* Tryfan\n",
      "* Snowdon\n",
      "* Glyder Fawr\n",
      "* Fan y Big\n",
      "* Cadair Idris\n"
     ]
    }
   ],
   "source": [
    "%%bash\n",
    "cat Wales.md"
   ]
  }
 ],
 "metadata": {
  "kernelspec": {
   "display_name": "Python 3 (ipykernel)",
   "language": "python",
   "name": "python3"
  },
  "language_info": {
   "codemirror_mode": {
    "name": "ipython",
    "version": 3
   },
   "file_extension": ".py",
   "mimetype": "text/x-python",
   "name": "python",
   "nbconvert_exporter": "python",
   "pygments_lexer": "ipython3",
   "version": "3.9.7"
  }
 },
 "nbformat": 4,
 "nbformat_minor": 5
}
