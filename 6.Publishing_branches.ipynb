{
 "cells": [
  {
   "cell_type": "code",
   "execution_count": 1,
   "id": "bf3c5083",
   "metadata": {},
   "outputs": [],
   "source": [
    "import os\n",
    "\n",
    "current_dir = os.getcwd()\n",
    "current_dir\n",
    "\n",
    "change_dir = os.path.join(current_dir, \"gitexample\")\n",
    "change_dir\n",
    "\n",
    "os.chdir(change_dir) #Sale un error si se corre 2 veces (No importa)"
   ]
  },
  {
   "cell_type": "markdown",
   "id": "e8f06996",
   "metadata": {},
   "source": [
    "## Publicamos en git-hub la nueva rama \"experiment\" \n",
    "## Se utiliza la abreviación -u para indicar a git que esta rama deberia ser pushed por defecto en \"origin\""
   ]
  },
  {
   "cell_type": "code",
   "execution_count": 3,
   "id": "753c22be",
   "metadata": {},
   "outputs": [
    {
     "name": "stdout",
     "output_type": "stream",
     "text": [
      "branch 'experiment' set up to track 'origin/experiment'.\n"
     ]
    },
    {
     "name": "stderr",
     "output_type": "stream",
     "text": [
      "remote: \n",
      "remote: Create a pull request for 'experiment' on GitHub by visiting:        \n",
      "remote:      https://github.com/Jhonvalencia77/PrimerRepositorio/pull/new/experiment        \n",
      "remote: \n",
      "To github.com:Jhonvalencia77/PrimerRepositorio.git\n",
      " * [new branch]      experiment -> experiment\n"
     ]
    }
   ],
   "source": [
    "%%bash\n",
    "git push -u origin experiment"
   ]
  },
  {
   "cell_type": "markdown",
   "id": "6ec67a91",
   "metadata": {},
   "source": [
    "## Observamos las ramas remotas"
   ]
  },
  {
   "cell_type": "code",
   "execution_count": 4,
   "id": "df964ca0",
   "metadata": {},
   "outputs": [
    {
     "name": "stdout",
     "output_type": "stream",
     "text": [
      "  origin/experiment\n",
      "  origin/main\n"
     ]
    }
   ],
   "source": [
    "%%bash\n",
    "git branch -r "
   ]
  },
  {
   "cell_type": "markdown",
   "id": "00792658",
   "metadata": {},
   "source": [
    "## Al igual que git diff se puede comparar el estado de las ramas con log\n",
    "## Se utiliza log para mirar la lista de commits que estan en la rama y que aún no se han fusionado\n",
    "## Esto A..B siginifica antepasado de B y no antepasado de A"
   ]
  },
  {
   "cell_type": "code",
   "execution_count": 5,
   "id": "10ac14c3",
   "metadata": {},
   "outputs": [
    {
     "name": "stdout",
     "output_type": "stream",
     "text": [
      "commit 6371514ec6c7176495ce205530ab2f27cf5b5d47\n",
      "Author: Jhonvalencia77 <Jhonvalencia66@gmail.com>\n",
      "Date:   Thu Mar 24 13:25:13 2022 -0500\n",
      "\n",
      "    Añadir Cadair Idris\n"
     ]
    }
   ],
   "source": [
    "%%bash\n",
    "git log main..experiment"
   ]
  },
  {
   "cell_type": "markdown",
   "id": "b87f78ae",
   "metadata": {},
   "source": [
    "## Hacemos un gráfico donde se muestre la historia de los commits "
   ]
  },
  {
   "cell_type": "code",
   "execution_count": 16,
   "id": "17019f49",
   "metadata": {},
   "outputs": [
    {
     "name": "stdout",
     "output_type": "stream",
     "text": [
      "* 6371514 Añadir Cadair Idris\n",
      "* 54e57cf Add Helvellyn\n",
      "* 28e6f0d Incluye lagos\n",
      "* f0d75e6 Añadimos lakeland\n",
      "* 7c43960 Digo una mentira en el documento somedocument2\n",
      "* 272d46d Nuevo commit 2\n"
     ]
    }
   ],
   "source": [
    "%%bash\n",
    "git log --graph --oneline HEAD~6..HEAD~1"
   ]
  },
  {
   "cell_type": "markdown",
   "id": "f2099cb2",
   "metadata": {},
   "source": [
    "## Fusionando ramas \n",
    "## Pueden aparecer errores si no se tiene actualizados los commits en las ramas "
   ]
  },
  {
   "cell_type": "code",
   "execution_count": 26,
   "id": "67d720fa",
   "metadata": {},
   "outputs": [
    {
     "name": "stdout",
     "output_type": "stream",
     "text": [
      "  experiment\n",
      "* main\n",
      "Ya está actualizado.\n"
     ]
    }
   ],
   "source": [
    "%%bash\n",
    "git branch \n",
    "git merge experiment"
   ]
  },
  {
   "cell_type": "code",
   "execution_count": 27,
   "id": "27af7d9f",
   "metadata": {},
   "outputs": [
    {
     "name": "stdout",
     "output_type": "stream",
     "text": [
      "*   27fa2d6 SolucionProblem\n",
      "|\\  \n",
      "| * 6371514 Añadir Cadair Idris\n",
      "* | 57d1aad Quitar Cadair Idris\n",
      "|/  \n",
      "* 54e57cf Add Helvellyn\n"
     ]
    }
   ],
   "source": [
    "%%bash\n",
    "git log --graph --oneline HEAD~3..HEAD"
   ]
  },
  {
   "cell_type": "markdown",
   "id": "5a0356bb",
   "metadata": {},
   "source": [
    "## Limpiando despúes de una rama "
   ]
  },
  {
   "cell_type": "code",
   "execution_count": 28,
   "id": "e316708b",
   "metadata": {},
   "outputs": [
    {
     "name": "stdout",
     "output_type": "stream",
     "text": [
      "  experiment\n",
      "* main\n"
     ]
    }
   ],
   "source": [
    "%%bash\n",
    "git branch"
   ]
  },
  {
   "cell_type": "markdown",
   "id": "a7490496",
   "metadata": {},
   "source": [
    "## Eliminar una rama"
   ]
  },
  {
   "cell_type": "code",
   "execution_count": 29,
   "id": "51a84a93",
   "metadata": {},
   "outputs": [
    {
     "name": "stdout",
     "output_type": "stream",
     "text": [
      "Eliminada la rama experiment (era 6371514).\n"
     ]
    }
   ],
   "source": [
    "%%bash\n",
    "git branch -d experiment"
   ]
  },
  {
   "cell_type": "markdown",
   "id": "c961c886",
   "metadata": {},
   "source": [
    "## Verificamos que la rama ha sido eliminada localmente"
   ]
  },
  {
   "cell_type": "markdown",
   "id": "50d27a98",
   "metadata": {},
   "source": [
    "%%bash\n",
    "git branch"
   ]
  },
  {
   "cell_type": "markdown",
   "id": "99eba6b6",
   "metadata": {},
   "source": [
    "## Remotamente todavía existe la rama"
   ]
  },
  {
   "cell_type": "code",
   "execution_count": 31,
   "id": "f30c9363",
   "metadata": {},
   "outputs": [
    {
     "name": "stdout",
     "output_type": "stream",
     "text": [
      "  origin/experiment\n",
      "  origin/main\n"
     ]
    }
   ],
   "source": [
    "%%bash\n",
    "git branch --remote"
   ]
  },
  {
   "cell_type": "markdown",
   "id": "2cb2890a",
   "metadata": {},
   "source": [
    "## Eliminar rama remota"
   ]
  },
  {
   "cell_type": "code",
   "execution_count": null,
   "id": "e1eb3363",
   "metadata": {},
   "outputs": [],
   "source": [
    "%%bash\n",
    "git push --delete origin experiment"
   ]
  },
  {
   "cell_type": "markdown",
   "id": "c6f28f37",
   "metadata": {},
   "source": [
    "## Publicamos nuevamente la rama actualizada "
   ]
  },
  {
   "cell_type": "code",
   "execution_count": 33,
   "id": "a180c3c9",
   "metadata": {},
   "outputs": [
    {
     "name": "stderr",
     "output_type": "stream",
     "text": [
      "Warning: Permanently added the ECDSA host key for IP address '140.82.113.3' to the list of known hosts.\r\n",
      "Everything up-to-date\n"
     ]
    }
   ],
   "source": [
    "%%bash\n",
    "git push "
   ]
  },
  {
   "cell_type": "markdown",
   "id": "8c9cbf18",
   "metadata": {},
   "source": [
    "## Tomar un archivo de una rama a otra\n",
    "### Si se está experimentando en una nueva rama pero quiere restaurar el archivo a su versión de la rama principal  "
   ]
  },
  {
   "cell_type": "code",
   "execution_count": null,
   "id": "40197b8c",
   "metadata": {},
   "outputs": [],
   "source": [
    "%%bash\n",
    "git checkout main test_file"
   ]
  },
  {
   "cell_type": "markdown",
   "id": "6f747fd4",
   "metadata": {},
   "source": [
    "## Para tomar el contenido de un determinado commit de otra rama y aplicarlo como un parche a tu rama"
   ]
  },
  {
   "cell_type": "code",
   "execution_count": null,
   "id": "0eb2653a",
   "metadata": {},
   "outputs": [],
   "source": [
    "%%bash\n",
    "git cherry-pick <commit>"
   ]
  },
  {
   "cell_type": "markdown",
   "id": "95feca78",
   "metadata": {},
   "source": [
    "## Buenas practicas para RAMAS\n",
    "### - Una rama de producción o principal (main): Versión actual de su código\n",
    "### - Una rama de desarrollo (develop): Donde el nuevo código puede ser testeado\n",
    "### - Una rama de caracteristicas (features): Para nuevas ideas\n",
    "### - Una rama de lanzamiento (realease): Útil para aplicar correcciones de errores a versiones anteriores de su código"
   ]
  }
 ],
 "metadata": {
  "kernelspec": {
   "display_name": "Python 3 (ipykernel)",
   "language": "python",
   "name": "python3"
  },
  "language_info": {
   "codemirror_mode": {
    "name": "ipython",
    "version": 3
   },
   "file_extension": ".py",
   "mimetype": "text/x-python",
   "name": "python",
   "nbconvert_exporter": "python",
   "pygments_lexer": "ipython3",
   "version": "3.9.7"
  }
 },
 "nbformat": 4,
 "nbformat_minor": 5
}
